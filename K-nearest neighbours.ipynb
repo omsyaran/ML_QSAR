{
 "cells": [
  {
   "cell_type": "markdown",
   "id": "2258427a",
   "metadata": {},
   "source": [
    "## K-nearest neighbours (KNN)"
   ]
  },
  {
   "cell_type": "code",
   "execution_count": 1,
   "id": "674eac12",
   "metadata": {},
   "outputs": [],
   "source": [
    "import pandas as pd\n",
    "import numpy as np\n",
    "from sklearn.metrics import accuracy_score, confusion_matrix, classification_report\n",
    "from sklearn.model_selection import GridSearchCV\n",
    "from sklearn.metrics import mean_absolute_error, mean_squared_error, r2_score, max_error\n",
    "from sklearn.feature_selection import SequentialFeatureSelector\n",
    "from sklearn.preprocessing import StandardScaler\n",
    "from sklearn.neighbors import KNeighborsClassifier\n",
    "from sklearn.model_selection import train_test_split\n",
    "import warnings\n",
    "warnings.filterwarnings('ignore')"
   ]
  },
  {
   "cell_type": "code",
   "execution_count": 2,
   "id": "f9a05566",
   "metadata": {},
   "outputs": [
    {
     "data": {
      "text/html": [
       "<div>\n",
       "<style scoped>\n",
       "    .dataframe tbody tr th:only-of-type {\n",
       "        vertical-align: middle;\n",
       "    }\n",
       "\n",
       "    .dataframe tbody tr th {\n",
       "        vertical-align: top;\n",
       "    }\n",
       "\n",
       "    .dataframe thead th {\n",
       "        text-align: right;\n",
       "    }\n",
       "</style>\n",
       "<table border=\"1\" class=\"dataframe\">\n",
       "  <thead>\n",
       "    <tr style=\"text-align: right;\">\n",
       "      <th></th>\n",
       "      <th>SpMax_L</th>\n",
       "      <th>J_Dz(e)</th>\n",
       "      <th>nHM</th>\n",
       "      <th>F01[N-N]</th>\n",
       "      <th>F04[C-N]</th>\n",
       "      <th>NssssC</th>\n",
       "      <th>nCb-</th>\n",
       "      <th>C%</th>\n",
       "      <th>nCp</th>\n",
       "      <th>nO</th>\n",
       "      <th>...</th>\n",
       "      <th>C-026</th>\n",
       "      <th>F02[C-N]</th>\n",
       "      <th>nHDon</th>\n",
       "      <th>SpMax_B(m)</th>\n",
       "      <th>Psi_i_A</th>\n",
       "      <th>nN</th>\n",
       "      <th>SM6_B(m)</th>\n",
       "      <th>nArCOOR</th>\n",
       "      <th>nX</th>\n",
       "      <th>experimental_class</th>\n",
       "    </tr>\n",
       "  </thead>\n",
       "  <tbody>\n",
       "    <tr>\n",
       "      <th>972</th>\n",
       "      <td>5.119</td>\n",
       "      <td>2.6427</td>\n",
       "      <td>0</td>\n",
       "      <td>0</td>\n",
       "      <td>0</td>\n",
       "      <td>0</td>\n",
       "      <td>4</td>\n",
       "      <td>60.0</td>\n",
       "      <td>0</td>\n",
       "      <td>0</td>\n",
       "      <td>...</td>\n",
       "      <td>0</td>\n",
       "      <td>0</td>\n",
       "      <td>0</td>\n",
       "      <td>3.976</td>\n",
       "      <td>1.889</td>\n",
       "      <td>0</td>\n",
       "      <td>8.661</td>\n",
       "      <td>0</td>\n",
       "      <td>0</td>\n",
       "      <td>NRB</td>\n",
       "    </tr>\n",
       "    <tr>\n",
       "      <th>616</th>\n",
       "      <td>4.675</td>\n",
       "      <td>4.5744</td>\n",
       "      <td>0</td>\n",
       "      <td>0</td>\n",
       "      <td>0</td>\n",
       "      <td>0</td>\n",
       "      <td>0</td>\n",
       "      <td>27.3</td>\n",
       "      <td>0</td>\n",
       "      <td>6</td>\n",
       "      <td>...</td>\n",
       "      <td>0</td>\n",
       "      <td>3</td>\n",
       "      <td>3</td>\n",
       "      <td>3.488</td>\n",
       "      <td>3.885</td>\n",
       "      <td>1</td>\n",
       "      <td>8.405</td>\n",
       "      <td>0</td>\n",
       "      <td>0</td>\n",
       "      <td>NRB</td>\n",
       "    </tr>\n",
       "    <tr>\n",
       "      <th>229</th>\n",
       "      <td>4.303</td>\n",
       "      <td>3.0634</td>\n",
       "      <td>0</td>\n",
       "      <td>0</td>\n",
       "      <td>0</td>\n",
       "      <td>0</td>\n",
       "      <td>0</td>\n",
       "      <td>21.4</td>\n",
       "      <td>2</td>\n",
       "      <td>3</td>\n",
       "      <td>...</td>\n",
       "      <td>0</td>\n",
       "      <td>0</td>\n",
       "      <td>3</td>\n",
       "      <td>3.102</td>\n",
       "      <td>3.722</td>\n",
       "      <td>0</td>\n",
       "      <td>6.978</td>\n",
       "      <td>0</td>\n",
       "      <td>0</td>\n",
       "      <td>RB</td>\n",
       "    </tr>\n",
       "  </tbody>\n",
       "</table>\n",
       "<p>3 rows × 42 columns</p>\n",
       "</div>"
      ],
      "text/plain": [
       "     SpMax_L  J_Dz(e)  nHM  F01[N-N]  F04[C-N]  NssssC  nCb-    C%  nCp  nO  \\\n",
       "972    5.119   2.6427    0         0         0       0     4  60.0    0   0   \n",
       "616    4.675   4.5744    0         0         0       0     0  27.3    0   6   \n",
       "229    4.303   3.0634    0         0         0       0     0  21.4    2   3   \n",
       "\n",
       "     ...  C-026  F02[C-N]  nHDon  SpMax_B(m)  Psi_i_A  nN  SM6_B(m)  nArCOOR  \\\n",
       "972  ...      0         0      0       3.976    1.889   0     8.661        0   \n",
       "616  ...      0         3      3       3.488    3.885   1     8.405        0   \n",
       "229  ...      0         0      3       3.102    3.722   0     6.978        0   \n",
       "\n",
       "     nX  experimental_class  \n",
       "972   0                 NRB  \n",
       "616   0                 NRB  \n",
       "229   0                  RB  \n",
       "\n",
       "[3 rows x 42 columns]"
      ]
     },
     "execution_count": 2,
     "metadata": {},
     "output_type": "execute_result"
    }
   ],
   "source": [
    "# getting the dataset\n",
    "qsar = pd.read_csv('biodeg.csv', sep=';')\n",
    "qsar = qsar.drop(\"Unnamed: 42\", axis=1)  # removing the unnamed column if you have, no means, comment it out\n",
    "#USE THIS COMMAND IF THERE IS AN UNNAMED 42 COLUMN\n",
    "qsar.sample(3)"
   ]
  },
  {
   "cell_type": "code",
   "execution_count": 3,
   "id": "87ac027d",
   "metadata": {},
   "outputs": [],
   "source": [
    "# changing the str label into 1s and 0s\n",
    "qsar['experimental_class'] = qsar['experimental_class'].astype('category')\n",
    "encode_map = {\n",
    "    'RB': 1,\n",
    "    'NRB': 0\n",
    "}\n",
    "qsar['experimental_class'].replace(encode_map, inplace=True)\n",
    "# 1 reprsents RB and O represents NRB [changed it into a binary classification problem now]"
   ]
  },
  {
   "cell_type": "code",
   "execution_count": 4,
   "id": "0cebd18d",
   "metadata": {},
   "outputs": [
    {
     "data": {
      "text/plain": [
       "0"
      ]
     },
     "execution_count": 4,
     "metadata": {},
     "output_type": "execute_result"
    }
   ],
   "source": [
    "qsar.isnull().values.any()  # checking if there is any missing value in data frame\n",
    "qsar.isnull().sum().sum()  # sums of missing value in the data frame"
   ]
  },
  {
   "cell_type": "code",
   "execution_count": 5,
   "id": "a67654d3",
   "metadata": {},
   "outputs": [],
   "source": [
    "# setting up the target variable and the feature variable\n",
    "y = qsar['experimental_class']\n",
    "x = qsar.drop(columns='experimental_class')"
   ]
  },
  {
   "cell_type": "code",
   "execution_count": 6,
   "id": "b673a6f6",
   "metadata": {},
   "outputs": [],
   "source": [
    "scaler = StandardScaler()\n",
    "x_scaler = scaler.fit_transform(x)\n",
    "# print(x_scaler)"
   ]
  },
  {
   "cell_type": "code",
   "execution_count": 7,
   "id": "921f1da1",
   "metadata": {},
   "outputs": [
    {
     "name": "stdout",
     "output_type": "stream",
     "text": [
      "(738, 41)\n",
      "(317, 41)\n",
      "(738,)\n",
      "(317,)\n"
     ]
    }
   ],
   "source": [
    "### Splitting the dataset before conducting SFS [forward and backward]\n",
    "seed_num = 80\n",
    "# creating set for SFS usage, the remaining set is for testing the model\n",
    "x_sfs, x_not_sfs, y_sfs, y_not_sfs = train_test_split(x_scaler, y, test_size=0.3, random_state=seed_num)\n",
    "\n",
    "print(x_sfs.shape)\n",
    "print(x_not_sfs.shape)\n",
    "print(y_sfs.shape)\n",
    "print(y_not_sfs.shape)\n",
    "\n",
    "# will be using x_sfs and y_sfs for SFS training and for training the model itself\n",
    "# the x_not_sfs and y_not_sfs is not used for the SFS training, it will be used for testing the model"
   ]
  },
  {
   "cell_type": "code",
   "execution_count": 8,
   "id": "cdc4cd7d",
   "metadata": {},
   "outputs": [],
   "source": [
    "# Initilaise the knn model\n",
    "model_knn = KNeighborsClassifier()\n",
    "model_knn.fit(x_sfs, y_sfs)\n",
    "#Determine the number of features to be selected\n",
    "fs = 5  #The features that is used for the selection\n",
    "direction = \"forward\""
   ]
  },
  {
   "cell_type": "code",
   "execution_count": 9,
   "id": "0a0aa019",
   "metadata": {},
   "outputs": [
    {
     "name": "stdout",
     "output_type": "stream",
     "text": [
      "Index(['F04[C-N]', 'F03[C-O]', 'SdO', 'nCrt', 'SpMax_B(m)'], dtype='object')\n"
     ]
    }
   ],
   "source": [
    "# feature selection is done here.\n",
    "# the direction must be set manually by the user\n",
    "\n",
    "sfs = SequentialFeatureSelector(model_knn, direction=direction, n_features_to_select=fs, cv=5)\n",
    "x_after_sfs = sfs.fit_transform(x_sfs, y_sfs)  # x_forward holds the selected features [forward sfs]\n",
    "selected_feature = x.columns[sfs.get_support(indices=True)]\n",
    "print(selected_feature)"
   ]
  },
  {
   "cell_type": "code",
   "execution_count": 10,
   "id": "70d3ba19",
   "metadata": {},
   "outputs": [],
   "source": [
    "grid_params = {'n_neighbors': [3, 5, 11, 19], 'weights': ['uniform', 'distance'],'metric': ['euclidean', 'manhattan']}\n",
    "gsc = GridSearchCV(model_knn, grid_params, cv=3, n_jobs=-1)\n",
    "result = gsc.fit(x_after_sfs, y_sfs)"
   ]
  },
  {
   "cell_type": "code",
   "execution_count": 11,
   "id": "f29bb3d9",
   "metadata": {},
   "outputs": [
    {
     "name": "stdout",
     "output_type": "stream",
     "text": [
      "feature Selection:  5\n",
      "The best parameters : {'metric': 'euclidean', 'n_neighbors': 5, 'weights': 'uniform'}\n",
      "Training score : 0.8428184281842818\n",
      "\n"
     ]
    }
   ],
   "source": [
    "print(\"feature Selection: \", fs)\n",
    "print(\"The best parameters : \" + str(result.best_params_))\n",
    "# print(\"The best index : \" + str(gsc.best_index_))\n",
    "# print(gsc.best_estimator_)\n",
    "print(\"Training score : \" + str(result.best_score_) + \"\\n\")"
   ]
  },
  {
   "cell_type": "code",
   "execution_count": 12,
   "id": "866cf363",
   "metadata": {},
   "outputs": [],
   "source": [
    "# based on sfs\n",
    "# updating the test set, 'x_test_' according to 'sfs' selection\n",
    "# assign 'x_not_sfs' to 'x_test_' --> to be used for testing later\n",
    "x_test_ = x_not_sfs\n",
    "x_test_ = sfs.transform(x_test_)\n",
    "y_train = y_sfs\n",
    "y_test = y_not_sfs"
   ]
  },
  {
   "cell_type": "code",
   "execution_count": 13,
   "id": "aacc7283",
   "metadata": {},
   "outputs": [
    {
     "name": "stdout",
     "output_type": "stream",
     "text": [
      "Enter the metric : euclidean\n",
      "Enter the weight : uniform\n",
      "Enter the neigbours : 5\n",
      "\n"
     ]
    }
   ],
   "source": [
    "metric = input(\"Enter the metric : \")\n",
    "weight = input(\"Enter the weight : \")\n",
    "neighbours = input(\"Enter the neigbours : \")\n",
    "print()\n",
    "neighbours = int(neighbours)"
   ]
  },
  {
   "cell_type": "code",
   "execution_count": 14,
   "id": "3534571b",
   "metadata": {},
   "outputs": [
    {
     "name": "stdout",
     "output_type": "stream",
     "text": [
      "Training set \n",
      "Mean absolute error : 0.11653116531165311\n",
      "Mean squared error : 0.11653116531165311\n",
      "r2 score : 0.4787493532411857\n",
      "The max error value : 1\n",
      "\n",
      "accuracy score:  0.8834688346883469\n",
      "[[448  41]\n",
      " [ 45 204]]\n",
      "              precision    recall  f1-score   support\n",
      "\n",
      "           0       0.91      0.92      0.91       489\n",
      "           1       0.83      0.82      0.83       249\n",
      "\n",
      "    accuracy                           0.88       738\n",
      "   macro avg       0.87      0.87      0.87       738\n",
      "weighted avg       0.88      0.88      0.88       738\n",
      "\n",
      "\n",
      "Testing set \n",
      "Mean absolute error : 0.1640378548895899\n",
      "Mean squared error : 0.1640378548895899\n",
      "r2 score : 0.2663996439697375\n",
      "The max error value : 1\n",
      "\n",
      "accuracy score:  0.8359621451104101\n",
      "[[185  25]\n",
      " [ 27  80]]\n",
      "              precision    recall  f1-score   support\n",
      "\n",
      "           0       0.87      0.88      0.88       210\n",
      "           1       0.76      0.75      0.75       107\n",
      "\n",
      "    accuracy                           0.84       317\n",
      "   macro avg       0.82      0.81      0.82       317\n",
      "weighted avg       0.84      0.84      0.84       317\n",
      "\n"
     ]
    }
   ],
   "source": [
    "m_knn = KNeighborsClassifier(n_neighbors=neighbours, weights=weight, metric=metric)\n",
    "m_knn.fit(x_after_sfs, y_train)\n",
    "y_train_pred = m_knn.predict(x_after_sfs)  # training set ,\"x_after_sfs_\" is used for prediction\n",
    "print(\"Training set \")\n",
    "print(\"Mean absolute error : \" + str(mean_absolute_error(y_train, y_train_pred)))\n",
    "print(\"Mean squared error : \" + str(mean_squared_error(y_train, y_train_pred)))\n",
    "print(\"r2 score : \" + str(r2_score(y_train, y_train_pred)))\n",
    "print(\"The max error value : \" + str(max_error(y_train, y_train_pred)) + \"\\n\")\n",
    "print(\"accuracy score: \", accuracy_score(y_train, y_train_pred))\n",
    "print(confusion_matrix(y_train, y_train_pred))\n",
    "print(classification_report(y_train, y_train_pred))\n",
    "\n",
    "y_pred = m_knn.predict(x_test_)  # testing set ,\"x_test_\" is used for prediction\n",
    "print()\n",
    "print(\"Testing set \")\n",
    "print(\"Mean absolute error : \" + str(mean_absolute_error(y_test, y_pred)))\n",
    "print(\"Mean squared error : \" + str(mean_squared_error(y_test, y_pred)))\n",
    "print(\"r2 score : \" + str(r2_score(y_test, y_pred)))\n",
    "print(\"The max error value : \" + str(max_error(y_test, y_pred)) + \"\\n\")\n",
    "print(\"accuracy score: \", accuracy_score(y_test, y_pred))\n",
    "print(confusion_matrix(y_test, y_pred))\n",
    "print(classification_report(y_test, y_pred))"
   ]
  }
 ],
 "metadata": {
  "kernelspec": {
   "display_name": "Python 3",
   "language": "python",
   "name": "python3"
  },
  "language_info": {
   "codemirror_mode": {
    "name": "ipython",
    "version": 3
   },
   "file_extension": ".py",
   "mimetype": "text/x-python",
   "name": "python",
   "nbconvert_exporter": "python",
   "pygments_lexer": "ipython3",
   "version": "3.8.8"
  }
 },
 "nbformat": 4,
 "nbformat_minor": 5
}
