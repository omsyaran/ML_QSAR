{
 "cells": [
  {
   "cell_type": "markdown",
   "id": "097cf99f",
   "metadata": {},
   "source": [
    "## Perceptron Model"
   ]
  },
  {
   "cell_type": "code",
   "execution_count": 1,
   "id": "ded1a938",
   "metadata": {},
   "outputs": [],
   "source": [
    "import os\n",
    "import sys\n",
    "from sklearn.preprocessing import StandardScaler\n",
    "import pandas as pd\n",
    "import numpy as np\n",
    "from sklearn.linear_model import LassoCV\n",
    "from sklearn.model_selection import train_test_split\n",
    "from sklearn.metrics import accuracy_score, confusion_matrix, classification_report\n",
    "from sklearn.model_selection import GridSearchCV\n",
    "from sklearn.svm import SVC\n",
    "from sklearn.metrics import mean_absolute_error, mean_squared_error, r2_score, max_error\n",
    "from sklearn.feature_selection import SequentialFeatureSelector\n",
    "import warnings\n",
    "from sklearn.linear_model import SGDClassifier\n",
    "if not sys.warnoptions:\n",
    "    warnings.simplefilter(\"ignore\")\n",
    "    os.environ[\"PYTHONWARNINGS\"] = \"ignore\"  # Also affect subprocesses\n",
    "warnings.filterwarnings('ignore')"
   ]
  },
  {
   "cell_type": "code",
   "execution_count": 2,
   "id": "d61461c4",
   "metadata": {},
   "outputs": [
    {
     "data": {
      "text/html": [
       "<div>\n",
       "<style scoped>\n",
       "    .dataframe tbody tr th:only-of-type {\n",
       "        vertical-align: middle;\n",
       "    }\n",
       "\n",
       "    .dataframe tbody tr th {\n",
       "        vertical-align: top;\n",
       "    }\n",
       "\n",
       "    .dataframe thead th {\n",
       "        text-align: right;\n",
       "    }\n",
       "</style>\n",
       "<table border=\"1\" class=\"dataframe\">\n",
       "  <thead>\n",
       "    <tr style=\"text-align: right;\">\n",
       "      <th></th>\n",
       "      <th>SpMax_L</th>\n",
       "      <th>J_Dz(e)</th>\n",
       "      <th>nHM</th>\n",
       "      <th>F01[N-N]</th>\n",
       "      <th>F04[C-N]</th>\n",
       "      <th>NssssC</th>\n",
       "      <th>nCb-</th>\n",
       "      <th>C%</th>\n",
       "      <th>nCp</th>\n",
       "      <th>nO</th>\n",
       "      <th>...</th>\n",
       "      <th>C-026</th>\n",
       "      <th>F02[C-N]</th>\n",
       "      <th>nHDon</th>\n",
       "      <th>SpMax_B(m)</th>\n",
       "      <th>Psi_i_A</th>\n",
       "      <th>nN</th>\n",
       "      <th>SM6_B(m)</th>\n",
       "      <th>nArCOOR</th>\n",
       "      <th>nX</th>\n",
       "      <th>experimental_class</th>\n",
       "    </tr>\n",
       "  </thead>\n",
       "  <tbody>\n",
       "    <tr>\n",
       "      <th>80</th>\n",
       "      <td>5.814</td>\n",
       "      <td>2.4937</td>\n",
       "      <td>0</td>\n",
       "      <td>0</td>\n",
       "      <td>0</td>\n",
       "      <td>2</td>\n",
       "      <td>0</td>\n",
       "      <td>37.0</td>\n",
       "      <td>3</td>\n",
       "      <td>1</td>\n",
       "      <td>...</td>\n",
       "      <td>0</td>\n",
       "      <td>0</td>\n",
       "      <td>0</td>\n",
       "      <td>3.756</td>\n",
       "      <td>2.091</td>\n",
       "      <td>0</td>\n",
       "      <td>8.196</td>\n",
       "      <td>0</td>\n",
       "      <td>0</td>\n",
       "      <td>RB</td>\n",
       "    </tr>\n",
       "    <tr>\n",
       "      <th>823</th>\n",
       "      <td>4.807</td>\n",
       "      <td>2.7734</td>\n",
       "      <td>2</td>\n",
       "      <td>0</td>\n",
       "      <td>0</td>\n",
       "      <td>0</td>\n",
       "      <td>0</td>\n",
       "      <td>26.3</td>\n",
       "      <td>0</td>\n",
       "      <td>0</td>\n",
       "      <td>...</td>\n",
       "      <td>0</td>\n",
       "      <td>0</td>\n",
       "      <td>0</td>\n",
       "      <td>4.094</td>\n",
       "      <td>2.019</td>\n",
       "      <td>2</td>\n",
       "      <td>8.760</td>\n",
       "      <td>0</td>\n",
       "      <td>0</td>\n",
       "      <td>NRB</td>\n",
       "    </tr>\n",
       "    <tr>\n",
       "      <th>956</th>\n",
       "      <td>5.026</td>\n",
       "      <td>2.9255</td>\n",
       "      <td>0</td>\n",
       "      <td>0</td>\n",
       "      <td>0</td>\n",
       "      <td>0</td>\n",
       "      <td>3</td>\n",
       "      <td>50.0</td>\n",
       "      <td>0</td>\n",
       "      <td>1</td>\n",
       "      <td>...</td>\n",
       "      <td>1</td>\n",
       "      <td>0</td>\n",
       "      <td>0</td>\n",
       "      <td>3.880</td>\n",
       "      <td>2.042</td>\n",
       "      <td>0</td>\n",
       "      <td>8.525</td>\n",
       "      <td>0</td>\n",
       "      <td>0</td>\n",
       "      <td>NRB</td>\n",
       "    </tr>\n",
       "  </tbody>\n",
       "</table>\n",
       "<p>3 rows × 42 columns</p>\n",
       "</div>"
      ],
      "text/plain": [
       "     SpMax_L  J_Dz(e)  nHM  F01[N-N]  F04[C-N]  NssssC  nCb-    C%  nCp  nO  \\\n",
       "80     5.814   2.4937    0         0         0       2     0  37.0    3   1   \n",
       "823    4.807   2.7734    2         0         0       0     0  26.3    0   0   \n",
       "956    5.026   2.9255    0         0         0       0     3  50.0    0   1   \n",
       "\n",
       "     ...  C-026  F02[C-N]  nHDon  SpMax_B(m)  Psi_i_A  nN  SM6_B(m)  nArCOOR  \\\n",
       "80   ...      0         0      0       3.756    2.091   0     8.196        0   \n",
       "823  ...      0         0      0       4.094    2.019   2     8.760        0   \n",
       "956  ...      1         0      0       3.880    2.042   0     8.525        0   \n",
       "\n",
       "     nX  experimental_class  \n",
       "80    0                  RB  \n",
       "823   0                 NRB  \n",
       "956   0                 NRB  \n",
       "\n",
       "[3 rows x 42 columns]"
      ]
     },
     "execution_count": 2,
     "metadata": {},
     "output_type": "execute_result"
    }
   ],
   "source": [
    "# getting the dataset\n",
    "qsar = pd.read_csv('biodeg.csv', sep=';')\n",
    "qsar = qsar.drop(\"Unnamed: 42\", axis=1)  # #USE THIS COMMAND IF THERE IS AN UNAMED COLUMN\n",
    "qsar.sample(3)"
   ]
  },
  {
   "cell_type": "code",
   "execution_count": 3,
   "id": "bc202ac7",
   "metadata": {},
   "outputs": [],
   "source": [
    "# changing the str label into 1s and 0s\n",
    "qsar['experimental_class'] = qsar['experimental_class'].astype('category')\n",
    "encode_map = {\n",
    "    'RB': 1,\n",
    "    'NRB': 0\n",
    "}\n",
    "qsar['experimental_class'].replace(encode_map, inplace=True)\n",
    "# 1 reprsents RB and O represents NRB [changed it into a binary classification problem now]"
   ]
  },
  {
   "cell_type": "code",
   "execution_count": 4,
   "id": "459f14ff",
   "metadata": {},
   "outputs": [
    {
     "data": {
      "text/plain": [
       "0"
      ]
     },
     "execution_count": 4,
     "metadata": {},
     "output_type": "execute_result"
    }
   ],
   "source": [
    "qsar.isnull().values.any()  # checking if there is any missing value in data frame\n",
    "qsar.isnull().sum().sum()  # sums of missing value in the data frame"
   ]
  },
  {
   "cell_type": "code",
   "execution_count": 5,
   "id": "d9735c0f",
   "metadata": {},
   "outputs": [],
   "source": [
    "# setting up the target variable and the feature variable\n",
    "y = qsar['experimental_class']\n",
    "x = qsar.drop(columns='experimental_class')"
   ]
  },
  {
   "cell_type": "code",
   "execution_count": 6,
   "id": "06fe9430",
   "metadata": {},
   "outputs": [],
   "source": [
    "scaler = StandardScaler()\n",
    "x_scaler = scaler.fit_transform(x)\n",
    "# print(x_scaler)"
   ]
  },
  {
   "cell_type": "code",
   "execution_count": 7,
   "id": "07412269",
   "metadata": {},
   "outputs": [
    {
     "name": "stdout",
     "output_type": "stream",
     "text": [
      "(738, 41)\n",
      "(317, 41)\n",
      "(738,)\n",
      "(317,)\n"
     ]
    }
   ],
   "source": [
    "### Splitting the dataset before conducting SFS [forward and backward]\n",
    "seed_num = 80\n",
    "# creating set for SFS usage, the remaining set is for testing the model\n",
    "x_sfs, x_not_sfs, y_sfs, y_not_sfs = train_test_split(x_scaler, y, test_size=0.3, random_state=seed_num)\n",
    "\n",
    "print(x_sfs.shape)\n",
    "print(x_not_sfs.shape)\n",
    "print(y_sfs.shape)\n",
    "print(y_not_sfs.shape)\n",
    "\n",
    "# will be using x_sfs and y_sfs for SFS training and for training the model itself\n",
    "# the x_not_sfs and y_not_sfs is not used for the SFS training, it will be used for testing the model"
   ]
  },
  {
   "cell_type": "code",
   "execution_count": 8,
   "id": "4227f4d7",
   "metadata": {},
   "outputs": [],
   "source": [
    "lasso = LassoCV().fit(x_sfs, y_sfs)\n",
    "importance = np.abs(lasso.coef_)\n",
    "feature_names = np.array(x)"
   ]
  },
  {
   "cell_type": "code",
   "execution_count": 9,
   "id": "735edfa4",
   "metadata": {},
   "outputs": [],
   "source": [
    "# Perceptron initialization\n",
    "model_pcpt = SGDClassifier()\n",
    "# INITIALISE THE FEATURE NUMBERS\n",
    "fs = 5\n",
    "direction = \"forward\""
   ]
  },
  {
   "cell_type": "code",
   "execution_count": 10,
   "id": "031d795b",
   "metadata": {},
   "outputs": [
    {
     "name": "stdout",
     "output_type": "stream",
     "text": [
      "Feature selection mode : forward\n",
      "Number of features : 5\n",
      "Index(['nO', 'F03[C-O]', 'SpMax_A', 'nN', 'SM6_B(m)'], dtype='object')\n"
     ]
    }
   ],
   "source": [
    "# feature selection is done here.\n",
    "# the direction must be set manually by the user\n",
    "print(\"Feature selection mode :\", direction)\n",
    "print(\"Number of features :\", fs)\n",
    "sfs = SequentialFeatureSelector(lasso, direction=direction, n_features_to_select=fs, cv=5)\n",
    "x_after_sfs = sfs.fit_transform(x_sfs, y_sfs)  # x_after_sfs holds the selected features\n",
    "selected_feature = x.columns[sfs.get_support(indices=True)]\n",
    "print(selected_feature)"
   ]
  },
  {
   "cell_type": "code",
   "execution_count": 11,
   "id": "192b78f6",
   "metadata": {},
   "outputs": [],
   "source": [
    "grid_params = {\n",
    "    \"loss\": [\"hinge\", \"log\", \"squared_hinge\", \"modified_huber\"],\n",
    "    \"alpha\": [0.0001, 0.001, 0.01, 0.1],\n",
    "    \"penalty\": [\"l2\", \"l1\", \"none\"],\n",
    "}\n",
    "gsc = GridSearchCV(model_pcpt, grid_params, cv=3, n_jobs=-1)\n",
    "result = gsc.fit(x_after_sfs, y_sfs)"
   ]
  },
  {
   "cell_type": "code",
   "execution_count": 12,
   "id": "37f3e078",
   "metadata": {},
   "outputs": [
    {
     "name": "stdout",
     "output_type": "stream",
     "text": [
      "feature Selection:  5\n",
      "The best parameters : {'alpha': 0.001, 'loss': 'modified_huber', 'penalty': 'none'}\n",
      "Training score : 0.8021680216802167\n",
      "\n"
     ]
    }
   ],
   "source": [
    "print(\"feature Selection: \", fs)\n",
    "print(\"The best parameters : \" + str(result.best_params_))\n",
    "# print(\"The best index : \" + str(gsc.best_index_))\n",
    "# print(gsc.best_estimator_)\n",
    "print(\"Training score : \" + str(result.best_score_) + \"\\n\")"
   ]
  },
  {
   "cell_type": "code",
   "execution_count": 13,
   "id": "ca033d8d",
   "metadata": {},
   "outputs": [],
   "source": [
    "# based on sfs\n",
    "# updating the test set, 'x_test_' according to 'sfs' selection\n",
    "# assign 'x_not_sfs' to 'x_test_' --> to be used for testing later\n",
    "x_test_ = x_not_sfs\n",
    "x_test_ = sfs.transform(x_test_)\n",
    "y_train = y_sfs\n",
    "y_test = y_not_sfs"
   ]
  },
  {
   "cell_type": "code",
   "execution_count": 15,
   "id": "5660637a",
   "metadata": {},
   "outputs": [
    {
     "name": "stdout",
     "output_type": "stream",
     "text": [
      "Enter the alpha : 0.001\n",
      "Enter the loss : modified_huber\n",
      "Enter the penalty : none\n"
     ]
    }
   ],
   "source": [
    "##Perceptron model\n",
    "alpha = input(\"Enter the alpha : \")\n",
    "loss = input(\"Enter the loss : \")\n",
    "penalty = input(\"Enter the penalty : \")\n",
    "alpha = float(alpha)"
   ]
  },
  {
   "cell_type": "code",
   "execution_count": 16,
   "id": "2d22fb0c",
   "metadata": {},
   "outputs": [
    {
     "name": "stdout",
     "output_type": "stream",
     "text": [
      "Training set \n",
      "Mean absolute error : 0.23441734417344173\n",
      "Mean squared error : 0.23441734417344173\n",
      "r2 score : -0.048562347549707674\n",
      "The max error value : 1\n",
      "\n",
      "accuracy score:  0.7655826558265583\n",
      "[[386 103]\n",
      " [ 70 179]]\n",
      "              precision    recall  f1-score   support\n",
      "\n",
      "           0       0.85      0.79      0.82       489\n",
      "           1       0.63      0.72      0.67       249\n",
      "\n",
      "    accuracy                           0.77       738\n",
      "   macro avg       0.74      0.75      0.75       738\n",
      "weighted avg       0.78      0.77      0.77       738\n",
      "\n",
      "Testing set \n",
      "Mean absolute error : 0.2334384858044164\n",
      "Mean squared error : 0.2334384858044164\n",
      "r2 score : -0.04396973742768129\n",
      "The max error value : 1\n",
      "\n",
      "accuracy score:  0.7665615141955836\n",
      "[[163  47]\n",
      " [ 27  80]]\n",
      "              precision    recall  f1-score   support\n",
      "\n",
      "           0       0.86      0.78      0.81       210\n",
      "           1       0.63      0.75      0.68       107\n",
      "\n",
      "    accuracy                           0.77       317\n",
      "   macro avg       0.74      0.76      0.75       317\n",
      "weighted avg       0.78      0.77      0.77       317\n",
      "\n"
     ]
    }
   ],
   "source": [
    "m_prcpt = SGDClassifier(alpha=alpha, loss=loss, penalty=penalty)\n",
    "m_prcpt.fit(x_after_sfs, y_train)\n",
    "y_train_pred = m_prcpt.predict(x_after_sfs)\n",
    "print(\"Training set \")\n",
    "print(\"Mean absolute error : \" + str(mean_absolute_error(y_train, y_train_pred)))\n",
    "print(\"Mean squared error : \" + str(mean_squared_error(y_train, y_train_pred)))\n",
    "print(\"r2 score : \" + str(r2_score(y_train, y_train_pred)))\n",
    "print(\"The max error value : \" + str(max_error(y_train, y_train_pred)) + \"\\n\")\n",
    "print(\"accuracy score: \", accuracy_score(y_train, y_train_pred))\n",
    "print(confusion_matrix(y_train, y_train_pred))\n",
    "print(classification_report(y_train, y_train_pred))\n",
    "\n",
    "y_pred = m_prcpt.predict(x_test_)  # testing set ,\"x_test_\" is used for prediction\n",
    "print(\"Testing set \")\n",
    "print(\"Mean absolute error : \" + str(mean_absolute_error(y_test, y_pred)))\n",
    "print(\"Mean squared error : \" + str(mean_squared_error(y_test, y_pred)))\n",
    "print(\"r2 score : \" + str(r2_score(y_test, y_pred)))\n",
    "print(\"The max error value : \" + str(max_error(y_test, y_pred)) + \"\\n\")\n",
    "print(\"accuracy score: \", accuracy_score(y_test, y_pred))\n",
    "print(confusion_matrix(y_test, y_pred))\n",
    "print(classification_report(y_test, y_pred))"
   ]
  }
 ],
 "metadata": {
  "kernelspec": {
   "display_name": "Python 3",
   "language": "python",
   "name": "python3"
  },
  "language_info": {
   "codemirror_mode": {
    "name": "ipython",
    "version": 3
   },
   "file_extension": ".py",
   "mimetype": "text/x-python",
   "name": "python",
   "nbconvert_exporter": "python",
   "pygments_lexer": "ipython3",
   "version": "3.8.8"
  }
 },
 "nbformat": 4,
 "nbformat_minor": 5
}
