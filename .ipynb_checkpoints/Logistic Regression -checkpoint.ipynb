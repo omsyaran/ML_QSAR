{
 "cells": [
  {
   "cell_type": "markdown",
   "id": "d761c907",
   "metadata": {},
   "source": [
    "## Logistic Regression [LR]"
   ]
  },
  {
   "cell_type": "code",
   "execution_count": 1,
   "id": "d92e5605",
   "metadata": {},
   "outputs": [],
   "source": [
    "import pandas as pd\n",
    "import numpy as np\n",
    "from sklearn.model_selection import GridSearchCV\n",
    "from sklearn.feature_selection import SequentialFeatureSelector\n",
    "import warnings\n",
    "warnings.filterwarnings('ignore')\n",
    "from sklearn.metrics import accuracy_score, confusion_matrix, classification_report, mean_absolute_error, mean_squared_error, r2_score, max_error\n",
    "from sklearn.linear_model import LogisticRegression\n",
    "from sklearn.model_selection import train_test_split\n",
    "from sklearn.preprocessing import StandardScaler"
   ]
  },
  {
   "cell_type": "code",
   "execution_count": 2,
   "id": "d0cafc1d",
   "metadata": {},
   "outputs": [
    {
     "data": {
      "text/html": [
       "<div>\n",
       "<style scoped>\n",
       "    .dataframe tbody tr th:only-of-type {\n",
       "        vertical-align: middle;\n",
       "    }\n",
       "\n",
       "    .dataframe tbody tr th {\n",
       "        vertical-align: top;\n",
       "    }\n",
       "\n",
       "    .dataframe thead th {\n",
       "        text-align: right;\n",
       "    }\n",
       "</style>\n",
       "<table border=\"1\" class=\"dataframe\">\n",
       "  <thead>\n",
       "    <tr style=\"text-align: right;\">\n",
       "      <th></th>\n",
       "      <th>SpMax_L</th>\n",
       "      <th>J_Dz(e)</th>\n",
       "      <th>nHM</th>\n",
       "      <th>F01[N-N]</th>\n",
       "      <th>F04[C-N]</th>\n",
       "      <th>NssssC</th>\n",
       "      <th>nCb-</th>\n",
       "      <th>C%</th>\n",
       "      <th>nCp</th>\n",
       "      <th>nO</th>\n",
       "      <th>...</th>\n",
       "      <th>C-026</th>\n",
       "      <th>F02[C-N]</th>\n",
       "      <th>nHDon</th>\n",
       "      <th>SpMax_B(m)</th>\n",
       "      <th>Psi_i_A</th>\n",
       "      <th>nN</th>\n",
       "      <th>SM6_B(m)</th>\n",
       "      <th>nArCOOR</th>\n",
       "      <th>nX</th>\n",
       "      <th>experimental_class</th>\n",
       "    </tr>\n",
       "  </thead>\n",
       "  <tbody>\n",
       "    <tr>\n",
       "      <th>990</th>\n",
       "      <td>3.618</td>\n",
       "      <td>2.8543</td>\n",
       "      <td>2</td>\n",
       "      <td>0</td>\n",
       "      <td>0</td>\n",
       "      <td>0</td>\n",
       "      <td>0</td>\n",
       "      <td>33.3</td>\n",
       "      <td>1</td>\n",
       "      <td>0</td>\n",
       "      <td>...</td>\n",
       "      <td>0</td>\n",
       "      <td>0</td>\n",
       "      <td>0</td>\n",
       "      <td>3.710</td>\n",
       "      <td>2.744</td>\n",
       "      <td>0</td>\n",
       "      <td>8.384</td>\n",
       "      <td>0</td>\n",
       "      <td>2</td>\n",
       "      <td>NRB</td>\n",
       "    </tr>\n",
       "    <tr>\n",
       "      <th>71</th>\n",
       "      <td>5.047</td>\n",
       "      <td>2.7377</td>\n",
       "      <td>0</td>\n",
       "      <td>0</td>\n",
       "      <td>0</td>\n",
       "      <td>0</td>\n",
       "      <td>3</td>\n",
       "      <td>50.0</td>\n",
       "      <td>0</td>\n",
       "      <td>5</td>\n",
       "      <td>...</td>\n",
       "      <td>0</td>\n",
       "      <td>0</td>\n",
       "      <td>1</td>\n",
       "      <td>3.906</td>\n",
       "      <td>3.321</td>\n",
       "      <td>0</td>\n",
       "      <td>8.796</td>\n",
       "      <td>2</td>\n",
       "      <td>0</td>\n",
       "      <td>RB</td>\n",
       "    </tr>\n",
       "    <tr>\n",
       "      <th>643</th>\n",
       "      <td>4.770</td>\n",
       "      <td>3.3176</td>\n",
       "      <td>0</td>\n",
       "      <td>0</td>\n",
       "      <td>1</td>\n",
       "      <td>0</td>\n",
       "      <td>2</td>\n",
       "      <td>41.2</td>\n",
       "      <td>1</td>\n",
       "      <td>2</td>\n",
       "      <td>...</td>\n",
       "      <td>1</td>\n",
       "      <td>2</td>\n",
       "      <td>0</td>\n",
       "      <td>3.830</td>\n",
       "      <td>2.933</td>\n",
       "      <td>1</td>\n",
       "      <td>8.497</td>\n",
       "      <td>0</td>\n",
       "      <td>0</td>\n",
       "      <td>NRB</td>\n",
       "    </tr>\n",
       "  </tbody>\n",
       "</table>\n",
       "<p>3 rows × 42 columns</p>\n",
       "</div>"
      ],
      "text/plain": [
       "     SpMax_L  J_Dz(e)  nHM  F01[N-N]  F04[C-N]  NssssC  nCb-    C%  nCp  nO  \\\n",
       "990    3.618   2.8543    2         0         0       0     0  33.3    1   0   \n",
       "71     5.047   2.7377    0         0         0       0     3  50.0    0   5   \n",
       "643    4.770   3.3176    0         0         1       0     2  41.2    1   2   \n",
       "\n",
       "     ...  C-026  F02[C-N]  nHDon  SpMax_B(m)  Psi_i_A  nN  SM6_B(m)  nArCOOR  \\\n",
       "990  ...      0         0      0       3.710    2.744   0     8.384        0   \n",
       "71   ...      0         0      1       3.906    3.321   0     8.796        2   \n",
       "643  ...      1         2      0       3.830    2.933   1     8.497        0   \n",
       "\n",
       "     nX  experimental_class  \n",
       "990   2                 NRB  \n",
       "71    0                  RB  \n",
       "643   0                 NRB  \n",
       "\n",
       "[3 rows x 42 columns]"
      ]
     },
     "execution_count": 2,
     "metadata": {},
     "output_type": "execute_result"
    }
   ],
   "source": [
    "# getting the dataset\n",
    "qsar = pd.read_csv('biodeg.csv', sep=';')\n",
    "qsar = qsar.drop(\"Unnamed: 42\", axis=1)  # removing the unnamed column if you have, no means, comment it out\n",
    "#USE THIS COMMAND IF THERE IS AN UNAMED COLUMN\n",
    "qsar.sample(3)"
   ]
  },
  {
   "cell_type": "code",
   "execution_count": 3,
   "id": "53e1b545",
   "metadata": {},
   "outputs": [],
   "source": [
    "# changing the str label into 1s and 0s\n",
    "qsar['experimental_class'] = qsar['experimental_class'].astype('category')\n",
    "encode_map = {\n",
    "    'RB': 1,\n",
    "    'NRB': 0\n",
    "}\n",
    "qsar['experimental_class'].replace(encode_map, inplace=True)\n",
    "# 1 reprsents RB and O represents NRB [changed it into a binary classification problem now]"
   ]
  },
  {
   "cell_type": "code",
   "execution_count": 4,
   "id": "caed1c72",
   "metadata": {},
   "outputs": [
    {
     "data": {
      "text/plain": [
       "0"
      ]
     },
     "execution_count": 4,
     "metadata": {},
     "output_type": "execute_result"
    }
   ],
   "source": [
    "qsar.isnull().values.any()  # checking if there is any missing value in data frame\n",
    "qsar.isnull().sum().sum()  # sums of missing value in the data frame"
   ]
  },
  {
   "cell_type": "code",
   "execution_count": 5,
   "id": "34f6be25",
   "metadata": {},
   "outputs": [],
   "source": [
    "#setting up the target variable and the feature variable\n",
    "y = qsar['experimental_class']\n",
    "x = qsar.drop(columns='experimental_class')"
   ]
  },
  {
   "cell_type": "code",
   "execution_count": 6,
   "id": "ede7d9bd",
   "metadata": {},
   "outputs": [],
   "source": [
    "scaler = StandardScaler()\n",
    "x_scaler = scaler.fit_transform(x)\n",
    "# print(x_scaler)"
   ]
  },
  {
   "cell_type": "code",
   "execution_count": 7,
   "id": "48192fc8",
   "metadata": {},
   "outputs": [
    {
     "name": "stdout",
     "output_type": "stream",
     "text": [
      "(738, 41)\n",
      "(317, 41)\n",
      "(738,)\n",
      "(317,)\n"
     ]
    }
   ],
   "source": [
    "### Splitting the dataset before conducting SFS [forward and backward]\n",
    "seed_num = 80\n",
    "# creating set for SFS usage, the remaining set is for testing the model\n",
    "x_sfs, x_not_sfs, y_sfs, y_not_sfs = train_test_split(x_scaler, y, test_size=0.3, random_state=seed_num)\n",
    "\n",
    "print(x_sfs.shape)\n",
    "print(x_not_sfs.shape)\n",
    "print(y_sfs.shape)\n",
    "print(y_not_sfs.shape)\n",
    "\n",
    "# will be using x_sfs and y_sfs for SFS training and for training the model itself\n",
    "# the x_not_sfs and y_not_sfs is not used for the SFS training, it will be used for testing the model"
   ]
  },
  {
   "cell_type": "code",
   "execution_count": 8,
   "id": "a3160fc7",
   "metadata": {},
   "outputs": [],
   "source": [
    "model_logr = LogisticRegression()\n",
    "fs = 5 #The features that is used for the selection"
   ]
  },
  {
   "cell_type": "code",
   "execution_count": 9,
   "id": "6cab3f0f",
   "metadata": {},
   "outputs": [
    {
     "name": "stdout",
     "output_type": "stream",
     "text": [
      "The feature selection direction: forward\n",
      "Feature:  5\n",
      "Index(['nCp', 'nCIR', 'SpMax_A', 'nN', 'nX'], dtype='object')\n"
     ]
    }
   ],
   "source": [
    "# feature selection is done here.\n",
    "# the direction must be set manually by the user\n",
    "direction = \"forward\"\n",
    "print(\"The feature selection direction:\", direction)\n",
    "print(\"Feature: \", fs)\n",
    "sfs = SequentialFeatureSelector(model_logr, direction=direction, n_features_to_select=fs, cv=5)\n",
    "x_after_sfs = sfs.fit_transform(x_sfs, y_sfs)  # x_after_sfs holds the selected features\n",
    "selected_feature = x.columns[sfs.get_support(indices=True)]\n",
    "print(selected_feature)"
   ]
  },
  {
   "cell_type": "code",
   "execution_count": 10,
   "id": "48066e8a",
   "metadata": {},
   "outputs": [],
   "source": [
    "grid_params = {\"C\": np.logspace(-3, 3, 7), \"penalty\": [\"l1\", \"l2\"]}\n",
    "gsc = GridSearchCV(model_logr, grid_params, cv=3)\n",
    "result = gsc.fit(x_after_sfs, y_sfs)"
   ]
  },
  {
   "cell_type": "code",
   "execution_count": 11,
   "id": "d6a67ed1",
   "metadata": {},
   "outputs": [
    {
     "name": "stdout",
     "output_type": "stream",
     "text": [
      "Feature:  5\n",
      "The best parameters : {'C': 10.0, 'penalty': 'l2'}\n",
      "Training score : 0.8224932249322494\n",
      "\n"
     ]
    }
   ],
   "source": [
    "print(\"Feature: \", fs)\n",
    "print(\"The best parameters : \" + str(result.best_params_))\n",
    "# print(\"The best index : \" + str(gsc.best_index_))\n",
    "# print(gsc.best_estimator_)\n",
    "print(\"Training score : \" + str(result.best_score_) + \"\\n\")"
   ]
  },
  {
   "cell_type": "code",
   "execution_count": 12,
   "id": "48155282",
   "metadata": {},
   "outputs": [],
   "source": [
    "# based on sfs\n",
    "# updating the test set, 'x_test_' according to 'sfs' selection\n",
    "# assign 'x_not_sfs' to 'x_test_' --> to be used for testing later\n",
    "x_test_ = x_not_sfs\n",
    "x_test_ = sfs.transform(x_test_)\n",
    "y_train = y_sfs\n",
    "y_test = y_not_sfs"
   ]
  },
  {
   "cell_type": "code",
   "execution_count": 13,
   "id": "599632df",
   "metadata": {},
   "outputs": [
    {
     "name": "stdout",
     "output_type": "stream",
     "text": [
      "Enter the C value : 10.0\n",
      "Enter the penalty : l2\n"
     ]
    }
   ],
   "source": [
    "c_val = input(\"Enter the C value : \")\n",
    "penalty = input(\"Enter the penalty : \")\n",
    "c_val = float(c_val)"
   ]
  },
  {
   "cell_type": "code",
   "execution_count": 14,
   "id": "3a03a69f",
   "metadata": {},
   "outputs": [
    {
     "data": {
      "text/plain": [
       "LogisticRegression()"
      ]
     },
     "execution_count": 14,
     "metadata": {},
     "output_type": "execute_result"
    }
   ],
   "source": [
    "##LOGISTIC REGRESSION MODEL\n",
    "m_lr = LogisticRegression(C=1.0, penalty='l2')\n",
    "m_lr.fit(x_after_sfs, y_train)"
   ]
  },
  {
   "cell_type": "code",
   "execution_count": 15,
   "id": "2501ecd6",
   "metadata": {},
   "outputs": [
    {
     "name": "stdout",
     "output_type": "stream",
     "text": [
      "Training set \n",
      "Mean absolute error : 0.17344173441734417\n",
      "Mean squared error : 0.17344173441734417\n",
      "r2 score : 0.22418508389385783\n",
      "The max error value : 1\n",
      "\n",
      "accuracy score:  0.8265582655826558\n",
      "[[440  49]\n",
      " [ 79 170]]\n",
      "              precision    recall  f1-score   support\n",
      "\n",
      "           0       0.85      0.90      0.87       489\n",
      "           1       0.78      0.68      0.73       249\n",
      "\n",
      "    accuracy                           0.83       738\n",
      "   macro avg       0.81      0.79      0.80       738\n",
      "weighted avg       0.82      0.83      0.82       738\n",
      "\n",
      "Testing Set \n",
      "Mean absolute error : 0.19242902208201892\n",
      "Mean squared error : 0.19242902208201892\n",
      "r2 score : 0.13943035157988426\n",
      "The max error value : 1\n",
      "\n",
      "accuracy score:  0.807570977917981\n",
      "[[181  29]\n",
      " [ 32  75]]\n",
      "              precision    recall  f1-score   support\n",
      "\n",
      "           0       0.85      0.86      0.86       210\n",
      "           1       0.72      0.70      0.71       107\n",
      "\n",
      "    accuracy                           0.81       317\n",
      "   macro avg       0.79      0.78      0.78       317\n",
      "weighted avg       0.81      0.81      0.81       317\n",
      "\n"
     ]
    }
   ],
   "source": [
    "y_train_pred = m_lr.predict(x_after_sfs)  # training set ,\"x_after_sfs_\" is used for prediction\n",
    "print(\"Training set \")\n",
    "print(\"Mean absolute error : \" + str(mean_absolute_error(y_train, y_train_pred)))\n",
    "print(\"Mean squared error : \" + str(mean_squared_error(y_train, y_train_pred)))\n",
    "print(\"r2 score : \" + str(r2_score(y_train, y_train_pred)))\n",
    "print(\"The max error value : \" + str(max_error(y_train, y_train_pred)) + \"\\n\")\n",
    "print(\"accuracy score: \", accuracy_score(y_train, y_train_pred))\n",
    "print(confusion_matrix(y_train, y_train_pred))\n",
    "print(classification_report(y_train, y_train_pred))\n",
    "\n",
    "y_pred = m_lr.predict(x_test_)\n",
    "print(\"Testing Set \")\n",
    "print(\"Mean absolute error : \" + str(mean_absolute_error(y_test, y_pred)))\n",
    "print(\"Mean squared error : \" + str(mean_squared_error(y_test, y_pred)))\n",
    "print(\"r2 score : \" + str(r2_score(y_test, y_pred)))\n",
    "print(\"The max error value : \" + str(max_error(y_test, y_pred)) + \"\\n\")\n",
    "print(\"accuracy score: \", accuracy_score(y_test, y_pred))\n",
    "print(confusion_matrix(y_test, y_pred))\n",
    "print(classification_report(y_test, y_pred))"
   ]
  }
 ],
 "metadata": {
  "kernelspec": {
   "display_name": "Python 3",
   "language": "python",
   "name": "python3"
  },
  "language_info": {
   "codemirror_mode": {
    "name": "ipython",
    "version": 3
   },
   "file_extension": ".py",
   "mimetype": "text/x-python",
   "name": "python",
   "nbconvert_exporter": "python",
   "pygments_lexer": "ipython3",
   "version": "3.8.8"
  }
 },
 "nbformat": 4,
 "nbformat_minor": 5
}
