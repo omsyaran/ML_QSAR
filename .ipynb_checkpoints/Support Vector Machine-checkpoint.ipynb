{
 "cells": [
  {
   "cell_type": "markdown",
   "id": "14731d4e",
   "metadata": {},
   "source": [
    "## Support Vector Machine [SVM]"
   ]
  },
  {
   "cell_type": "code",
   "execution_count": 1,
   "id": "b8e66dbf",
   "metadata": {},
   "outputs": [],
   "source": [
    "import pandas as pd\n",
    "from sklearn.metrics import accuracy_score, confusion_matrix,classification_report\n",
    "from sklearn.model_selection import GridSearchCV\n",
    "from sklearn.svm import SVC\n",
    "from sklearn.metrics import mean_absolute_error, mean_squared_error, r2_score, max_error\n",
    "from sklearn.metrics import recall_score,precision_score,f1_score\n",
    "from sklearn.feature_selection import SequentialFeatureSelector\n",
    "from sklearn.preprocessing import StandardScaler\n",
    "from sklearn.model_selection import train_test_split\n",
    "import matplotlib.pyplot as plt\n",
    "import numpy as np\n",
    "import warnings\n",
    "warnings.filterwarnings('ignore')"
   ]
  },
  {
   "cell_type": "code",
   "execution_count": 2,
   "id": "3fbd9656",
   "metadata": {},
   "outputs": [
    {
     "data": {
      "text/html": [
       "<div>\n",
       "<style scoped>\n",
       "    .dataframe tbody tr th:only-of-type {\n",
       "        vertical-align: middle;\n",
       "    }\n",
       "\n",
       "    .dataframe tbody tr th {\n",
       "        vertical-align: top;\n",
       "    }\n",
       "\n",
       "    .dataframe thead th {\n",
       "        text-align: right;\n",
       "    }\n",
       "</style>\n",
       "<table border=\"1\" class=\"dataframe\">\n",
       "  <thead>\n",
       "    <tr style=\"text-align: right;\">\n",
       "      <th></th>\n",
       "      <th>SpMax_L</th>\n",
       "      <th>J_Dz(e)</th>\n",
       "      <th>nHM</th>\n",
       "      <th>F01[N-N]</th>\n",
       "      <th>F04[C-N]</th>\n",
       "      <th>NssssC</th>\n",
       "      <th>nCb-</th>\n",
       "      <th>C%</th>\n",
       "      <th>nCp</th>\n",
       "      <th>nO</th>\n",
       "      <th>...</th>\n",
       "      <th>C-026</th>\n",
       "      <th>F02[C-N]</th>\n",
       "      <th>nHDon</th>\n",
       "      <th>SpMax_B(m)</th>\n",
       "      <th>Psi_i_A</th>\n",
       "      <th>nN</th>\n",
       "      <th>SM6_B(m)</th>\n",
       "      <th>nArCOOR</th>\n",
       "      <th>nX</th>\n",
       "      <th>experimental_class</th>\n",
       "    </tr>\n",
       "  </thead>\n",
       "  <tbody>\n",
       "    <tr>\n",
       "      <th>1019</th>\n",
       "      <td>5.047</td>\n",
       "      <td>2.5237</td>\n",
       "      <td>0</td>\n",
       "      <td>0</td>\n",
       "      <td>0</td>\n",
       "      <td>0</td>\n",
       "      <td>4</td>\n",
       "      <td>58.3</td>\n",
       "      <td>0</td>\n",
       "      <td>0</td>\n",
       "      <td>...</td>\n",
       "      <td>0</td>\n",
       "      <td>0</td>\n",
       "      <td>0</td>\n",
       "      <td>3.966</td>\n",
       "      <td>1.905</td>\n",
       "      <td>0</td>\n",
       "      <td>8.812</td>\n",
       "      <td>0</td>\n",
       "      <td>0</td>\n",
       "      <td>NRB</td>\n",
       "    </tr>\n",
       "    <tr>\n",
       "      <th>208</th>\n",
       "      <td>4.562</td>\n",
       "      <td>3.2113</td>\n",
       "      <td>0</td>\n",
       "      <td>0</td>\n",
       "      <td>0</td>\n",
       "      <td>0</td>\n",
       "      <td>2</td>\n",
       "      <td>42.9</td>\n",
       "      <td>0</td>\n",
       "      <td>2</td>\n",
       "      <td>...</td>\n",
       "      <td>2</td>\n",
       "      <td>0</td>\n",
       "      <td>2</td>\n",
       "      <td>3.646</td>\n",
       "      <td>2.917</td>\n",
       "      <td>0</td>\n",
       "      <td>8.003</td>\n",
       "      <td>0</td>\n",
       "      <td>0</td>\n",
       "      <td>RB</td>\n",
       "    </tr>\n",
       "    <tr>\n",
       "      <th>228</th>\n",
       "      <td>3.414</td>\n",
       "      <td>2.4441</td>\n",
       "      <td>1</td>\n",
       "      <td>0</td>\n",
       "      <td>0</td>\n",
       "      <td>0</td>\n",
       "      <td>0</td>\n",
       "      <td>33.3</td>\n",
       "      <td>1</td>\n",
       "      <td>0</td>\n",
       "      <td>...</td>\n",
       "      <td>0</td>\n",
       "      <td>0</td>\n",
       "      <td>0</td>\n",
       "      <td>3.567</td>\n",
       "      <td>2.653</td>\n",
       "      <td>0</td>\n",
       "      <td>7.775</td>\n",
       "      <td>0</td>\n",
       "      <td>1</td>\n",
       "      <td>RB</td>\n",
       "    </tr>\n",
       "  </tbody>\n",
       "</table>\n",
       "<p>3 rows × 42 columns</p>\n",
       "</div>"
      ],
      "text/plain": [
       "      SpMax_L  J_Dz(e)  nHM  F01[N-N]  F04[C-N]  NssssC  nCb-    C%  nCp  nO  \\\n",
       "1019    5.047   2.5237    0         0         0       0     4  58.3    0   0   \n",
       "208     4.562   3.2113    0         0         0       0     2  42.9    0   2   \n",
       "228     3.414   2.4441    1         0         0       0     0  33.3    1   0   \n",
       "\n",
       "      ...  C-026  F02[C-N]  nHDon  SpMax_B(m)  Psi_i_A  nN  SM6_B(m)  nArCOOR  \\\n",
       "1019  ...      0         0      0       3.966    1.905   0     8.812        0   \n",
       "208   ...      2         0      2       3.646    2.917   0     8.003        0   \n",
       "228   ...      0         0      0       3.567    2.653   0     7.775        0   \n",
       "\n",
       "      nX  experimental_class  \n",
       "1019   0                 NRB  \n",
       "208    0                  RB  \n",
       "228    1                  RB  \n",
       "\n",
       "[3 rows x 42 columns]"
      ]
     },
     "execution_count": 2,
     "metadata": {},
     "output_type": "execute_result"
    }
   ],
   "source": [
    "# getting the dataset\n",
    "qsar = pd.read_csv('biodeg.csv', sep = ';')\n",
    "qsar = qsar.drop(\"Unnamed: 42\", axis=1) # removing the unnamed column if you have, no means, comment it out\n",
    "qsar.sample(3)"
   ]
  },
  {
   "cell_type": "code",
   "execution_count": 3,
   "id": "783ac734",
   "metadata": {},
   "outputs": [
    {
     "data": {
      "text/plain": [
       "<AxesSubplot:xlabel='experimental_class', ylabel='count'>"
      ]
     },
     "execution_count": 3,
     "metadata": {},
     "output_type": "execute_result"
    },
    {
     "data": {
      "image/png": "[encoded data removed]",
      "text/plain": [
       "<Figure size 432x288 with 1 Axes>"
      ]
     },
     "metadata": {
      "needs_background": "light"
     },
     "output_type": "display_data"
    }
   ],
   "source": [
    "# to see how many are RB class and how many are NRB class exist within this dataset\n",
    "import seaborn as sns\n",
    "sns.countplot(x='experimental_class', data=qsar)"
   ]
  },
  {
   "cell_type": "markdown",
   "id": "88e6ba7e",
   "metadata": {},
   "source": [
    "### Dataset Preprocessing"
   ]
  },
  {
   "cell_type": "code",
   "execution_count": 4,
   "id": "3e157ebd",
   "metadata": {},
   "outputs": [],
   "source": [
    "# changing the str label into 1s and 0s\n",
    "qsar['experimental_class'] = qsar['experimental_class'].astype('category')\n",
    "encode_map = {\n",
    "    'RB':1,\n",
    "    'NRB':0\n",
    "}\n",
    "qsar['experimental_class'].replace(encode_map,inplace=True)\n",
    "# 1 reprsents RB and O represents NRB [changed it into a binary classification problem now]"
   ]
  },
  {
   "cell_type": "code",
   "execution_count": 5,
   "id": "94e94941",
   "metadata": {},
   "outputs": [
    {
     "data": {
      "text/plain": [
       "0"
      ]
     },
     "execution_count": 5,
     "metadata": {},
     "output_type": "execute_result"
    }
   ],
   "source": [
    "qsar.isnull().values.any() # checking if there is any missing value in data frame\n",
    "qsar.isnull().sum().sum() # sums of missing value in the data frame"
   ]
  },
  {
   "cell_type": "code",
   "execution_count": 6,
   "id": "44f9c3e4",
   "metadata": {},
   "outputs": [],
   "source": [
    "# setting up the target variable and the feature variable\n",
    "y = qsar['experimental_class']\n",
    "x = qsar.drop(columns='experimental_class')"
   ]
  },
  {
   "cell_type": "code",
   "execution_count": 7,
   "id": "3435b7d6",
   "metadata": {},
   "outputs": [],
   "source": [
    "scaler = StandardScaler()\n",
    "# the mean is removed and scaling it to unit variance\n",
    "x_scaler = scaler.fit_transform(x) \n",
    "#print(x_scaler)"
   ]
  },
  {
   "cell_type": "code",
   "execution_count": 8,
   "id": "ed0ad024",
   "metadata": {},
   "outputs": [
    {
     "name": "stdout",
     "output_type": "stream",
     "text": [
      "(738, 41)\n",
      "(317, 41)\n",
      "(738,)\n",
      "(317,)\n"
     ]
    }
   ],
   "source": [
    "### Splitting the dataset before conducting SFS [forward and backward]\n",
    "seed_num = 80\n",
    "# creating set for SFS usage, the remaining set is for testing the model\n",
    "x_sfs, x_not_sfs, y_sfs, y_not_sfs = train_test_split(x_scaler, y, test_size=0.3, random_state=seed_num) \n",
    "\n",
    "print(x_sfs.shape)\n",
    "print(x_not_sfs.shape)\n",
    "print(y_sfs.shape)\n",
    "print(y_not_sfs.shape)\n",
    "\n",
    "# will be using x_sfs and y_sfs for SFS training and for training the model itself\n",
    "# the x_not_sfs and y_not_sfs is not used for the SFS training, it will be used for testing the model"
   ]
  },
  {
   "cell_type": "code",
   "execution_count": 9,
   "id": "e2e5914e",
   "metadata": {},
   "outputs": [],
   "source": [
    "# support vector machine model is used for SFS [forward/backward]\n",
    "C = 0.1\n",
    "svc = SVC(kernel='linear', C=C)"
   ]
  },
  {
   "cell_type": "markdown",
   "id": "adff2fd9",
   "metadata": {},
   "source": [
    "### Feature Selection \n",
    "The number of features to select is set manually by the user. The direction as well. It can be 'forward' or 'backward'.\n",
    "The number of feature selected is done in increment of 5 So, the sequence would be 5,10,15,20,25,30,35 and 40."
   ]
  },
  {
   "cell_type": "code",
   "execution_count": 10,
   "id": "ea025a32",
   "metadata": {
    "scrolled": true
   },
   "outputs": [
    {
     "name": "stdout",
     "output_type": "stream",
     "text": [
      "Index(['SpMax_L', 'nHM', 'F01[N-N]', 'F04[C-N]', 'C%', 'nCp', 'nO', 'SdssC',\n",
      "       'HyWi_B(m)', 'LOC', 'nN-N', 'nArNO2', 'B01[C-Br]', 'B03[C-Cl]',\n",
      "       'Psi_i_1d', 'SdO', 'nCrt', 'Psi_i_A', 'nN', 'nArCOOR'],\n",
      "      dtype='object')\n"
     ]
    }
   ],
   "source": [
    "# feature selection is done here.\n",
    "# the number of features to select and the direction must be set manually by the user [backward,20]\n",
    "\n",
    "sfs = SequentialFeatureSelector(svc, direction='backward',n_features_to_select=20, cv=5)\n",
    "x_after_sfs = sfs.fit_transform(x_sfs, y_sfs) # x_after_sfs holds the selected features \n",
    "selected_feature = x.columns [sfs.get_support(indices=True)]\n",
    "print(selected_feature)"
   ]
  },
  {
   "cell_type": "code",
   "execution_count": 11,
   "id": "6b11161f",
   "metadata": {},
   "outputs": [
    {
     "name": "stdout",
     "output_type": "stream",
     "text": [
      "The best parameters : {'C': 1.5, 'degree': 2, 'gamma': 'scale', 'kernel': 'rbf'}\n",
      "Training score : 0.4726882992091066\n",
      "\n"
     ]
    }
   ],
   "source": [
    "# finding the optimal parameters for the SVC model via grid search\n",
    "parameters = {'kernel': ('linear','rbf','sigmoid','poly'), 'C': [0.1,0.5,1.5,2,2.5,3,3.5,3.9,4,6,8,9,10,11,13,17,19,20,22,25,27,30,32], 'degree': [2,3,4,5,6,7,8], 'gamma':['scale']}\n",
    "clf = SVC()\n",
    "gsc = GridSearchCV(clf, parameters, cv=3, scoring = ['r2', 'neg_mean_squared_error','neg_mean_absolute_error', 'neg_median_absolute_error'], n_jobs=3, refit='r2')\n",
    "gsc.fit(x_after_sfs, y_sfs)\n",
    "    \n",
    "print(\"The best parameters : \" + str(gsc.best_params_))\n",
    "print(\"Training score : \"+ str(gsc.best_score_) + \"\\n\") "
   ]
  },
  {
   "cell_type": "code",
   "execution_count": 12,
   "id": "8b54947d",
   "metadata": {},
   "outputs": [],
   "source": [
    "# based on sfs\n",
    "# updating the test set, 'x_test_' according to 'sfs' selection\n",
    "# assign 'x_not_sfs' to 'x_test_' --> to be used for testing later\n",
    "x_test_ = x_not_sfs \n",
    "x_test_ = sfs.transform(x_test_)\n",
    "y_train = y_sfs\n",
    "y_test= y_not_sfs"
   ]
  },
  {
   "cell_type": "code",
   "execution_count": 13,
   "id": "e6bb6a28",
   "metadata": {},
   "outputs": [
    {
     "name": "stdout",
     "output_type": "stream",
     "text": [
      "For training set\n",
      "Mean absolute error : 0.0921409214092141\n",
      "Mean squared error : 0.0921409214092141\n",
      "r2 score : 0.587848325818612\n",
      "The max error value : 1\n",
      "\n",
      "accuracy score:  0.907859078590786\n",
      "[[463  26]\n",
      " [ 42 207]]\n",
      "              precision    recall  f1-score   support\n",
      "\n",
      "           0       0.92      0.95      0.93       489\n",
      "           1       0.89      0.83      0.86       249\n",
      "\n",
      "    accuracy                           0.91       738\n",
      "   macro avg       0.90      0.89      0.90       738\n",
      "weighted avg       0.91      0.91      0.91       738\n",
      "\n",
      "\n",
      "For testing set\n",
      "Mean absolute error : 0.13249211356466878\n",
      "Mean squared error : 0.13249211356466878\n",
      "r2 score : 0.4074766355140187\n",
      "The max error value : 1\n",
      "\n",
      "accuracy score:  0.8675078864353313\n",
      "[[189  21]\n",
      " [ 21  86]]\n",
      "              precision    recall  f1-score   support\n",
      "\n",
      "           0       0.90      0.90      0.90       210\n",
      "           1       0.80      0.80      0.80       107\n",
      "\n",
      "    accuracy                           0.87       317\n",
      "   macro avg       0.85      0.85      0.85       317\n",
      "weighted avg       0.87      0.87      0.87       317\n",
      "\n"
     ]
    }
   ],
   "source": [
    "# build the SVC model with that best parameter and the result is recorded in the report\n",
    "svc_model = SVC(kernel='rbf', C=1.5 ,gamma='scale' )\n",
    "svc_model.fit(x_after_sfs, y_train) \n",
    "\n",
    "y_train_pred = svc_model.predict(x_after_sfs) # the training set,'x_after_sfs' is used for prediction\n",
    "print(\"For training set\")\n",
    "print(\"Mean absolute error : \" + str(mean_absolute_error(y_train, y_train_pred))) # do note that 'y_train' is used instead of 'y_test'\n",
    "print(\"Mean squared error : \" + str(mean_squared_error(y_train, y_train_pred)))\n",
    "print(\"r2 score : \"+ str(r2_score(y_train, y_train_pred)))\n",
    "print(\"The max error value : \" + str(max_error(y_train, y_train_pred)) + \"\\n\")\n",
    "print(\"accuracy score: \", accuracy_score(y_train, y_train_pred))\n",
    "print(confusion_matrix(y_train, y_train_pred))\n",
    "print(classification_report(y_train, y_train_pred))\n",
    "\n",
    "y_pred = svc_model.predict(x_test_)  # the testing set, 'x_test_' is used for prediction\n",
    "print(\"\\nFor testing set\")\n",
    "print(\"Mean absolute error : \" + str(mean_absolute_error(y_test, y_pred)))\n",
    "print(\"Mean squared error : \" + str(mean_squared_error(y_test, y_pred)))\n",
    "print(\"r2 score : \"+ str(r2_score(y_test, y_pred)))\n",
    "print(\"The max error value : \" + str(max_error(y_test, y_pred)) + \"\\n\")\n",
    "print(\"accuracy score: \", accuracy_score(y_test, y_pred))\n",
    "print(confusion_matrix(y_test, y_pred))\n",
    "print(classification_report(y_test, y_pred))"
   ]
  },
  {
   "cell_type": "markdown",
   "id": "d5f8ea84",
   "metadata": {},
   "source": [
    "## Overall Best model from the Set of SVC model\n",
    "A best model is picked from the set of SVC model that was created and evaluated. The best model that was picked is the model with 20 features selected through backward SFS. The best model is created down below with its\n",
    "parameters. The name of the model is 'svc_best_model'. "
   ]
  },
  {
   "cell_type": "markdown",
   "id": "322088b9",
   "metadata": {},
   "source": [
    "#### Parameter for the best model is as following :\n",
    "##### {'C': 1.5, 'degree': 2, 'gamma': 'scale', 'kernel': 'rbf'}"
   ]
  },
  {
   "cell_type": "code",
   "execution_count": 14,
   "id": "cba336ec",
   "metadata": {},
   "outputs": [
    {
     "name": "stdout",
     "output_type": "stream",
     "text": [
      "Mean absolute error : 0.13249211356466878\n",
      "Mean squared error : 0.13249211356466878\n",
      "r2 score : 0.4074766355140187\n",
      "The max error value : 1\n",
      "\n",
      "accuracy score:  0.8675078864353313\n",
      "[[189  21]\n",
      " [ 21  86]]\n",
      "              precision    recall  f1-score   support\n",
      "\n",
      "           0       0.90      0.90      0.90       210\n",
      "           1       0.80      0.80      0.80       107\n",
      "\n",
      "    accuracy                           0.87       317\n",
      "   macro avg       0.85      0.85      0.85       317\n",
      "weighted avg       0.87      0.87      0.87       317\n",
      "\n"
     ]
    }
   ],
   "source": [
    "svc_best_model = SVC(kernel='rbf', C=1.5 ,gamma='scale' )\n",
    "svc_best_model.fit(x_after_sfs, y_train)\n",
    "y_pred = svc_best_model.predict(x_test_)\n",
    "print(\"Mean absolute error : \" + str(mean_absolute_error(y_test, y_pred)))\n",
    "print(\"Mean squared error : \" + str(mean_squared_error(y_test, y_pred)))\n",
    "print(\"r2 score : \"+ str(r2_score(y_test, y_pred)))\n",
    "print(\"The max error value : \" + str(max_error(y_test, y_pred)) + \"\\n\")\n",
    "print(\"accuracy score: \", accuracy_score(y_test, y_pred))\n",
    "print(confusion_matrix(y_test, y_pred))\n",
    "print(classification_report(y_test, y_pred))"
   ]
  }
 ],
 "metadata": {
  "kernelspec": {
   "display_name": "Python 3",
   "language": "python",
   "name": "python3"
  },
  "language_info": {
   "codemirror_mode": {
    "name": "ipython",
    "version": 3
   },
   "file_extension": ".py",
   "mimetype": "text/x-python",
   "name": "python",
   "nbconvert_exporter": "python",
   "pygments_lexer": "ipython3",
   "version": "3.8.8"
  }
 },
 "nbformat": 4,
 "nbformat_minor": 5
}
